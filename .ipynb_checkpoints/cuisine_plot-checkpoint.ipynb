{
 "cells": [
  {
   "cell_type": "code",
   "execution_count": 21,
   "metadata": {},
   "outputs": [
    {
     "data": {
      "text/html": [
       "<div>\n",
       "<style scoped>\n",
       "    .dataframe tbody tr th:only-of-type {\n",
       "        vertical-align: middle;\n",
       "    }\n",
       "\n",
       "    .dataframe tbody tr th {\n",
       "        vertical-align: top;\n",
       "    }\n",
       "\n",
       "    .dataframe thead th {\n",
       "        text-align: right;\n",
       "    }\n",
       "</style>\n",
       "<table border=\"1\" class=\"dataframe\">\n",
       "  <thead>\n",
       "    <tr style=\"text-align: right;\">\n",
       "      <th></th>\n",
       "      <th>restaurant</th>\n",
       "      <th>address</th>\n",
       "      <th>recent_health_score</th>\n",
       "      <th>recent_health_risk</th>\n",
       "      <th>average_health_score</th>\n",
       "      <th>zipcode</th>\n",
       "      <th>yelp_business_id</th>\n",
       "      <th>rating</th>\n",
       "      <th>price</th>\n",
       "      <th>review_count</th>\n",
       "      <th>category_1</th>\n",
       "      <th>category_2</th>\n",
       "      <th>category_3</th>\n",
       "      <th>distance</th>\n",
       "      <th>cuisine</th>\n",
       "    </tr>\n",
       "  </thead>\n",
       "  <tbody>\n",
       "    <tr>\n",
       "      <th>0</th>\n",
       "      <td>CHARLIE'S DELI CAFE</td>\n",
       "      <td>3202 FOLSOM St</td>\n",
       "      <td>88.0</td>\n",
       "      <td>Low Risk</td>\n",
       "      <td>86.315789</td>\n",
       "      <td>94117</td>\n",
       "      <td>hNze7c3mWvEnAXYT_geV9Q</td>\n",
       "      <td>4.5</td>\n",
       "      <td>$</td>\n",
       "      <td>82</td>\n",
       "      <td>Delis</td>\n",
       "      <td>Sandwiches</td>\n",
       "      <td>NaN</td>\n",
       "      <td>11.894793</td>\n",
       "      <td>Other</td>\n",
       "    </tr>\n",
       "    <tr>\n",
       "      <th>1</th>\n",
       "      <td>ART'S CAFE</td>\n",
       "      <td>747 IRVING St</td>\n",
       "      <td>94.0</td>\n",
       "      <td>Low Risk</td>\n",
       "      <td>90.500000</td>\n",
       "      <td>94122</td>\n",
       "      <td>MXKWFQHoC0SXy9UI-Djn7g</td>\n",
       "      <td>4.0</td>\n",
       "      <td>$</td>\n",
       "      <td>1071</td>\n",
       "      <td>Diners</td>\n",
       "      <td>Korean</td>\n",
       "      <td>American (Traditional)</td>\n",
       "      <td>8.885345</td>\n",
       "      <td>Other</td>\n",
       "    </tr>\n",
       "    <tr>\n",
       "      <th>2</th>\n",
       "      <td>CAFE X + O</td>\n",
       "      <td>1799 Church St</td>\n",
       "      <td>92.0</td>\n",
       "      <td>Low Risk</td>\n",
       "      <td>91.750000</td>\n",
       "      <td>94131</td>\n",
       "      <td>HhAmBwTYq_MXbOLzypRQjQ</td>\n",
       "      <td>3.5</td>\n",
       "      <td>$</td>\n",
       "      <td>223</td>\n",
       "      <td>Coffee &amp; Tea</td>\n",
       "      <td>Sandwiches</td>\n",
       "      <td>NaN</td>\n",
       "      <td>7.502404</td>\n",
       "      <td>Other</td>\n",
       "    </tr>\n",
       "    <tr>\n",
       "      <th>3</th>\n",
       "      <td>Oasis Grill</td>\n",
       "      <td>91 Drumm St</td>\n",
       "      <td>70.0</td>\n",
       "      <td>Low Risk</td>\n",
       "      <td>72.454545</td>\n",
       "      <td>94111</td>\n",
       "      <td>gBRjRvIfA4fIo6pNebTjuA</td>\n",
       "      <td>4.0</td>\n",
       "      <td>$$</td>\n",
       "      <td>1200</td>\n",
       "      <td>Mediterranean</td>\n",
       "      <td>Desserts</td>\n",
       "      <td>Salad</td>\n",
       "      <td>5.072415</td>\n",
       "      <td>Mediterranean</td>\n",
       "    </tr>\n",
       "    <tr>\n",
       "      <th>4</th>\n",
       "      <td>Chowders</td>\n",
       "      <td>Pier 39  Space A3</td>\n",
       "      <td>98.0</td>\n",
       "      <td>Low Risk</td>\n",
       "      <td>94.500000</td>\n",
       "      <td>94133</td>\n",
       "      <td>oic-xcRpi-yXG3KZ4go0mg</td>\n",
       "      <td>3.5</td>\n",
       "      <td>$$</td>\n",
       "      <td>770</td>\n",
       "      <td>Seafood</td>\n",
       "      <td>Fish &amp; Chips</td>\n",
       "      <td>Soup</td>\n",
       "      <td>57.334700</td>\n",
       "      <td>Other</td>\n",
       "    </tr>\n",
       "  </tbody>\n",
       "</table>\n",
       "</div>"
      ],
      "text/plain": [
       "            restaurant            address  recent_health_score  \\\n",
       "0  CHARLIE'S DELI CAFE     3202 FOLSOM St                 88.0   \n",
       "1           ART'S CAFE      747 IRVING St                 94.0   \n",
       "2           CAFE X + O     1799 Church St                 92.0   \n",
       "3          Oasis Grill        91 Drumm St                 70.0   \n",
       "4             Chowders  Pier 39  Space A3                 98.0   \n",
       "\n",
       "  recent_health_risk  average_health_score  zipcode        yelp_business_id  \\\n",
       "0           Low Risk             86.315789    94117  hNze7c3mWvEnAXYT_geV9Q   \n",
       "1           Low Risk             90.500000    94122  MXKWFQHoC0SXy9UI-Djn7g   \n",
       "2           Low Risk             91.750000    94131  HhAmBwTYq_MXbOLzypRQjQ   \n",
       "3           Low Risk             72.454545    94111  gBRjRvIfA4fIo6pNebTjuA   \n",
       "4           Low Risk             94.500000    94133  oic-xcRpi-yXG3KZ4go0mg   \n",
       "\n",
       "   rating price  review_count     category_1    category_2  \\\n",
       "0     4.5     $            82          Delis    Sandwiches   \n",
       "1     4.0     $          1071         Diners        Korean   \n",
       "2     3.5     $           223   Coffee & Tea    Sandwiches   \n",
       "3     4.0    $$          1200  Mediterranean      Desserts   \n",
       "4     3.5    $$           770        Seafood  Fish & Chips   \n",
       "\n",
       "               category_3   distance        cuisine  \n",
       "0                     NaN  11.894793          Other  \n",
       "1  American (Traditional)   8.885345          Other  \n",
       "2                     NaN   7.502404          Other  \n",
       "3                   Salad   5.072415  Mediterranean  \n",
       "4                    Soup  57.334700          Other  "
      ]
     },
     "execution_count": 21,
     "metadata": {},
     "output_type": "execute_result"
    }
   ],
   "source": [
    "# Dependencies and Setup\n",
    "import matplotlib.pyplot as plt\n",
    "import pandas as pd\n",
    "import numpy as np\n",
    "import scipy.stats as stats\n",
    "\n",
    "# Input File (CSV) and initialize the yelp data\n",
    "input_data_file = \"resources/yelp_clean.csv\"\n",
    "df = pd.read_csv(input_data_file)\n",
    "df.head()"
   ]
  },
  {
   "cell_type": "code",
   "execution_count": 22,
   "metadata": {},
   "outputs": [],
   "source": [
    "# organize data for ANOVA testing\n",
    "american = df.loc[(df[\"cuisine\"] == \"American\")]\n",
    "chinese = df.loc[(df[\"cuisine\"] == \"Chinese\")]\n",
    "indian = df.loc[(df[\"cuisine\"] == \"Indian\")]\n",
    "italian = df.loc[(df[\"cuisine\"] == \"Italian\")]\n",
    "japanese = df.loc[(df[\"cuisine\"] == \"Japanese\")]\n",
    "korean = df.loc[(df[\"cuisine\"] == \"Korean\")]\n",
    "mediterranean = df.loc[(df[\"cuisine\"] == \"Mediterranean\")]\n",
    "mexican = df.loc[(df[\"cuisine\"] == \"Mexican\")]\n",
    "other = df.loc[(df[\"cuisine\"] == \"Other\")]\n",
    "thai = df.loc[(df[\"cuisine\"] == \"Thai\")]\n",
    "vietnamese = df.loc[(df[\"cuisine\"] == \"Vietnamese\")]\n"
   ]
  },
  {
   "cell_type": "code",
   "execution_count": 23,
   "metadata": {},
   "outputs": [
    {
     "data": {
      "text/plain": [
       "F_onewayResult(statistic=27.20692704882155, pvalue=1.6276800732195356e-43)"
      ]
     },
     "execution_count": 23,
     "metadata": {},
     "output_type": "execute_result"
    }
   ],
   "source": [
    "# How do we know if any of the cuisines are statistically different?\n",
    "# Perform the ANOVA\n",
    "stats.f_oneway(american[\"average_health_score\"], chinese[\"average_health_score\"], indian[\"average_health_score\"], \n",
    "           italian[\"average_health_score\"], japanese[\"average_health_score\"], korean[\"average_health_score\"],\n",
    "           mediterranean[\"average_health_score\"], mexican[\"average_health_score\"],\n",
    "           thai[\"average_health_score\"], vietnamese[\"average_health_score\"])"
   ]
  },
  {
   "cell_type": "code",
   "execution_count": 24,
   "metadata": {},
   "outputs": [
    {
     "data": {
      "image/png": "[encoded data removed]",
      "text/plain": [
       "<Figure size 1080x576 with 1 Axes>"
      ]
     },
     "metadata": {
      "needs_background": "light"
     },
     "output_type": "display_data"
    }
   ],
   "source": [
    "cuisine = df.boxplot(\"recent_health_score\", by=\"cuisine\", figsize=(15, 8), grid=False)\n",
    "cuisine.set_xlabel(\"Restaurant Cuisine\", fontsize=20)\n",
    "cuisine.set_ylabel(\"Health Score\", fontsize=20)\n",
    "cuisine.set_title(\"Distribution of Health Scores by Cuisine\", fontsize=25)\n",
    "plt.suptitle(\"\")\n",
    "plt.savefig(\"figures/cuisine_boxplot.png\")"
   ]
  },
  {
   "cell_type": "code",
   "execution_count": 25,
   "metadata": {},
   "outputs": [
    {
     "data": {
      "image/png": "[encoded data removed]",
      "text/plain": [
       "<Figure size 1080x576 with 1 Axes>"
      ]
     },
     "metadata": {
      "needs_background": "light"
     },
     "output_type": "display_data"
    }
   ],
   "source": [
    "rating = df.boxplot(\"recent_health_score\", by=\"rating\", figsize=(15, 8), grid=False)\n",
    "rating.set_xlabel(\"Yelp Rating\", fontsize=20)\n",
    "rating.set_ylabel(\"Health Score\", fontsize=20)\n",
    "rating.set_title(\"Distribution of Health Scores by Yelp Rating\", fontsize=25)\n",
    "plt.suptitle(\"\")\n",
    "plt.savefig(\"figures/rating_boxplot.png\")"
   ]
  },
  {
   "cell_type": "code",
   "execution_count": 26,
   "metadata": {},
   "outputs": [],
   "source": [
    "# organize  ratings data for ANOVA testing\n",
    "rating_1 = df.loc[(df[\"rating\"] == 1)]\n",
    "rating_1_5 = df.loc[(df[\"rating\"] == 1.5)]\n",
    "rating_2 = df.loc[(df[\"rating\"] == 2)]\n",
    "rating_2_5 = df.loc[(df[\"rating\"] == 2.5)]\n",
    "rating_3 = df.loc[(df[\"rating\"] == 3)]\n",
    "rating_3_5 = df.loc[(df[\"rating\"] == 3.5)]\n",
    "rating_4 = df.loc[(df[\"rating\"] == 4)]\n",
    "rating_4_5 = df.loc[(df[\"rating\"] == 4.5)]\n",
    "rating_5 = df.loc[(df[\"rating\"] == 5)]\n"
   ]
  },
  {
   "cell_type": "code",
   "execution_count": 27,
   "metadata": {},
   "outputs": [
    {
     "data": {
      "text/plain": [
       "F_onewayResult(statistic=28.757253841315418, pvalue=1.4454455965981587e-33)"
      ]
     },
     "execution_count": 27,
     "metadata": {},
     "output_type": "execute_result"
    }
   ],
   "source": [
    "# How do we know if any of the cuisines are statistically different?\n",
    "# Perform the ANOVA\n",
    "stats.f_oneway(rating_2[\"average_health_score\"],\n",
    "           rating_2_5[\"average_health_score\"],rating_3[\"average_health_score\"],rating_3_5[\"average_health_score\"],\n",
    "           rating_4[\"average_health_score\"],rating_4_5[\"average_health_score\"],rating_5[\"average_health_score\"])"
   ]
  },
  {
   "cell_type": "code",
   "execution_count": 28,
   "metadata": {},
   "outputs": [
    {
     "data": {
      "text/plain": [
       "array(['Other', 'Mediterranean', 'Italian', 'Japanese', 'Korean',\n",
       "       'Mexican', 'Chinese', 'Indian', 'Thai', 'American', 'Vietnamese'],\n",
       "      dtype=object)"
      ]
     },
     "execution_count": 28,
     "metadata": {},
     "output_type": "execute_result"
    }
   ],
   "source": []
  },
  {
   "cell_type": "code",
   "execution_count": null,
   "metadata": {},
   "outputs": [],
   "source": []
  }
 ],
 "metadata": {
  "kernelspec": {
   "display_name": "Python 3",
   "language": "python",
   "name": "python3"
  },
  "language_info": {
   "codemirror_mode": {
    "name": "ipython",
    "version": 3
   },
   "file_extension": ".py",
   "mimetype": "text/x-python",
   "name": "python",
   "nbconvert_exporter": "python",
   "pygments_lexer": "ipython3",
   "version": "3.6.7"
  }
 },
 "nbformat": 4,
 "nbformat_minor": 2
}
