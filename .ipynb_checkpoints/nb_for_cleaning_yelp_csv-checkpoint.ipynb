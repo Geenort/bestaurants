{
 "cells": [
  {
   "cell_type": "code",
   "execution_count": 1,
   "metadata": {},
   "outputs": [],
   "source": [
    "import pandas as pd"
   ]
  },
  {
   "cell_type": "code",
   "execution_count": 10,
   "metadata": {},
   "outputs": [
    {
     "data": {
      "text/plain": [
       "restaurant              3519\n",
       "address                 3519\n",
       "recent_health_score     3519\n",
       "recent_health_risk      3367\n",
       "average_health_score    3519\n",
       "zipcode                 3518\n",
       "yelp_business_id        3518\n",
       "rating                  3518\n",
       "price                   3364\n",
       "review_count            3518\n",
       "category_1              3516\n",
       "category_2              2359\n",
       "category_3              1321\n",
       "distance                3518\n",
       "cuisine                 3519\n",
       "dtype: int64"
      ]
     },
     "execution_count": 10,
     "metadata": {},
     "output_type": "execute_result"
    }
   ],
   "source": [
    "yelp_df = pd.read_csv(\"yelp_clean.csv\")\n",
    "yelp_df.count()"
   ]
  },
  {
   "cell_type": "code",
   "execution_count": 6,
   "metadata": {},
   "outputs": [
    {
     "data": {
      "text/plain": [
       "zipcode          52351\n",
       "median_income    52351\n",
       "dtype: int64"
      ]
     },
     "execution_count": 6,
     "metadata": {},
     "output_type": "execute_result"
    }
   ],
   "source": [
    "main_df = pd.read_csv(\"Table_with_all_fields.csv\", thousands=',')\n",
    "main_df.rename(columns={\"Zip\":\"zipcode\",\"Median\":\"median_income\"},inplace=True)\n",
    "main_df = main_df[[\"zipcode\",\"median_income\"]]\n",
    "main_df.count()"
   ]
  },
  {
   "cell_type": "code",
   "execution_count": 9,
   "metadata": {},
   "outputs": [
    {
     "data": {
      "text/plain": [
       "zipcode    32914\n",
       "zip_lat    32914\n",
       "zip_lng    32914\n",
       "dtype: int64"
      ]
     },
     "execution_count": 9,
     "metadata": {},
     "output_type": "execute_result"
    }
   ],
   "source": [
    "zip_df = pd.read_csv(\"Zip_geocodes.csv\")\n",
    "zip_df.rename(columns={\"Zip\":\"zipcode\",\"Lat\":\"zip_lat\",\"Lng\":\"zip_lng\"}, inplace=True)\n",
    "zip_df[\"zipcode\"] = zip_df[\"zipcode\"].map('{:.0f}'.format)\n",
    "zip_df.count()"
   ]
  },
  {
   "cell_type": "code",
   "execution_count": 8,
   "metadata": {},
   "outputs": [
    {
     "data": {
      "text/plain": [
       "restaurant              10252853\n",
       "address                 10252853\n",
       "recent_health_score     10252853\n",
       "recent_health_risk       9835669\n",
       "average_health_score    10252853\n",
       "zipcode                 10252853\n",
       "yelp_business_id        10252853\n",
       "rating                  10252853\n",
       "price                    9837874\n",
       "review_count            10252853\n",
       "category_1              10246537\n",
       "category_2               6822421\n",
       "category_3               3793299\n",
       "distance                10252853\n",
       "cuisine                 10252853\n",
       "median_income           10252853\n",
       "dtype: int64"
      ]
     },
     "execution_count": 8,
     "metadata": {},
     "output_type": "execute_result"
    }
   ],
   "source": [
    "merged_df = yelp_df.merge(main_df, on=\"zipcode\")\n",
    "merged_df[\"zipcode\"] = merged_df[\"zipcode\"].map('{:.0f}'.format)\n",
    "merged_df.count()"
   ]
  },
  {
   "cell_type": "code",
   "execution_count": null,
   "metadata": {},
   "outputs": [],
   "source": [
    "merged_df = merged_df.merge(zip_df, on=\"zipcode\")\n",
    "merged_df.count()"
   ]
  },
  {
   "cell_type": "code",
   "execution_count": null,
   "metadata": {},
   "outputs": [],
   "source": [
    "merged_df.to_csv(\"yelp_clean_v2.csv\")"
   ]
  }
 ],
 "metadata": {
  "kernelspec": {
   "display_name": "Python 3",
   "language": "python",
   "name": "python3"
  },
  "language_info": {
   "codemirror_mode": {
    "name": "ipython",
    "version": 3
   },
   "file_extension": ".py",
   "mimetype": "text/x-python",
   "name": "python",
   "nbconvert_exporter": "python",
   "pygments_lexer": "ipython3",
   "version": "3.6.7"
  }
 },
 "nbformat": 4,
 "nbformat_minor": 2
}
