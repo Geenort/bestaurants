{
 "cells": [
  {
   "cell_type": "code",
   "execution_count": 1,
   "metadata": {},
   "outputs": [],
   "source": [
    "import pandas as pd\n",
    "import matplotlib.pyplot as plt\n",
    "import numpy as np\n",
    "import scipy.stats as stats"
   ]
  },
  {
   "cell_type": "code",
   "execution_count": 3,
   "metadata": {},
   "outputs": [
    {
     "data": {
      "text/plain": [
       "$$      1793\n",
       "$       1340\n",
       "$$$      179\n",
       "$$$$      49\n",
       "Name: price, dtype: int64"
      ]
     },
     "execution_count": 3,
     "metadata": {},
     "output_type": "execute_result"
    }
   ],
   "source": [
    "df = pd.read_csv(\"resources/all_data_cleaned.csv\")\n",
    "df.head()\n",
    "df.dropna(subset=['price'], inplace=True)\n",
    "df['price'].value_counts()\n",
    "\n",
    "# each row is a different business"
   ]
  },
  {
   "cell_type": "code",
   "execution_count": 4,
   "metadata": {},
   "outputs": [
    {
     "data": {
      "text/html": [
       "<div>\n",
       "<style scoped>\n",
       "    .dataframe tbody tr th:only-of-type {\n",
       "        vertical-align: middle;\n",
       "    }\n",
       "\n",
       "    .dataframe tbody tr th {\n",
       "        vertical-align: top;\n",
       "    }\n",
       "\n",
       "    .dataframe thead th {\n",
       "        text-align: right;\n",
       "    }\n",
       "</style>\n",
       "<table border=\"1\" class=\"dataframe\">\n",
       "  <thead>\n",
       "    <tr style=\"text-align: right;\">\n",
       "      <th></th>\n",
       "      <th>Unnamed: 0</th>\n",
       "      <th>restaurant</th>\n",
       "      <th>address</th>\n",
       "      <th>recent_health_score</th>\n",
       "      <th>recent_health_risk</th>\n",
       "      <th>average_health_score</th>\n",
       "      <th>zipcode</th>\n",
       "      <th>yelp_business_id</th>\n",
       "      <th>rating</th>\n",
       "      <th>price</th>\n",
       "      <th>review_count</th>\n",
       "      <th>category_1</th>\n",
       "      <th>category_2</th>\n",
       "      <th>category_3</th>\n",
       "      <th>distance</th>\n",
       "      <th>cuisine</th>\n",
       "      <th>median_income</th>\n",
       "      <th>zip_lat</th>\n",
       "      <th>zip_lng</th>\n",
       "    </tr>\n",
       "  </thead>\n",
       "  <tbody>\n",
       "    <tr>\n",
       "      <th>0</th>\n",
       "      <td>0</td>\n",
       "      <td>Norman's Ice Cream and Freezes</td>\n",
       "      <td>2801 Leavenworth St</td>\n",
       "      <td>96</td>\n",
       "      <td>Low Risk</td>\n",
       "      <td>96.000000</td>\n",
       "      <td>94133</td>\n",
       "      <td>sfAIpzEC8ywpy36YhzikmQ</td>\n",
       "      <td>4.5</td>\n",
       "      <td>1</td>\n",
       "      <td>289.0</td>\n",
       "      <td>Ice Cream &amp; Frozen Yogurt</td>\n",
       "      <td>Coffee &amp; Tea</td>\n",
       "      <td>Juice Bars &amp; Smoothies</td>\n",
       "      <td>8.031888</td>\n",
       "      <td>Other</td>\n",
       "      <td>45203</td>\n",
       "      <td>37.804531</td>\n",
       "      <td>-122.410852</td>\n",
       "    </tr>\n",
       "    <tr>\n",
       "      <th>1</th>\n",
       "      <td>1</td>\n",
       "      <td>Chowders</td>\n",
       "      <td>Pier 39  Space A3</td>\n",
       "      <td>98</td>\n",
       "      <td>Low Risk</td>\n",
       "      <td>94.500000</td>\n",
       "      <td>94133</td>\n",
       "      <td>oic-xcRpi-yXG3KZ4go0mg</td>\n",
       "      <td>3.5</td>\n",
       "      <td>2</td>\n",
       "      <td>768.0</td>\n",
       "      <td>Seafood</td>\n",
       "      <td>Fish &amp; Chips</td>\n",
       "      <td>Soup</td>\n",
       "      <td>57.334700</td>\n",
       "      <td>Other</td>\n",
       "      <td>45203</td>\n",
       "      <td>37.804531</td>\n",
       "      <td>-122.410852</td>\n",
       "    </tr>\n",
       "    <tr>\n",
       "      <th>2</th>\n",
       "      <td>2</td>\n",
       "      <td>XOX Truffles</td>\n",
       "      <td>754 Columbus Ave</td>\n",
       "      <td>94</td>\n",
       "      <td>Moderate Risk</td>\n",
       "      <td>94.000000</td>\n",
       "      <td>94133</td>\n",
       "      <td>qkHlhvv6DrCkvY54ogcPiA</td>\n",
       "      <td>4.5</td>\n",
       "      <td>1</td>\n",
       "      <td>604.0</td>\n",
       "      <td>Chocolatiers &amp; Shops</td>\n",
       "      <td>Coffee &amp; Tea</td>\n",
       "      <td>NaN</td>\n",
       "      <td>3.286580</td>\n",
       "      <td>Other</td>\n",
       "      <td>45203</td>\n",
       "      <td>37.804531</td>\n",
       "      <td>-122.410852</td>\n",
       "    </tr>\n",
       "    <tr>\n",
       "      <th>3</th>\n",
       "      <td>3</td>\n",
       "      <td>Centerfolds</td>\n",
       "      <td>391 Broadway St</td>\n",
       "      <td>90</td>\n",
       "      <td>Low Risk</td>\n",
       "      <td>90.857143</td>\n",
       "      <td>94133</td>\n",
       "      <td>6Ki5PvDCebTkCRkGEXD1qw</td>\n",
       "      <td>3.5</td>\n",
       "      <td>2</td>\n",
       "      <td>151.0</td>\n",
       "      <td>Cabaret</td>\n",
       "      <td>Strip Clubs</td>\n",
       "      <td>NaN</td>\n",
       "      <td>7.262056</td>\n",
       "      <td>Other</td>\n",
       "      <td>45203</td>\n",
       "      <td>37.804531</td>\n",
       "      <td>-122.410852</td>\n",
       "    </tr>\n",
       "    <tr>\n",
       "      <th>4</th>\n",
       "      <td>4</td>\n",
       "      <td>Caffe Puccini</td>\n",
       "      <td>411 Columbus Ave</td>\n",
       "      <td>90</td>\n",
       "      <td>Low Risk</td>\n",
       "      <td>90.000000</td>\n",
       "      <td>94133</td>\n",
       "      <td>uzqUJiCHUqV2c3PnvSsqeQ</td>\n",
       "      <td>4.0</td>\n",
       "      <td>1</td>\n",
       "      <td>966.0</td>\n",
       "      <td>Coffee &amp; Tea</td>\n",
       "      <td>Desserts</td>\n",
       "      <td>Sandwiches</td>\n",
       "      <td>25.578495</td>\n",
       "      <td>Other</td>\n",
       "      <td>45203</td>\n",
       "      <td>37.804531</td>\n",
       "      <td>-122.410852</td>\n",
       "    </tr>\n",
       "  </tbody>\n",
       "</table>\n",
       "</div>"
      ],
      "text/plain": [
       "   Unnamed: 0                      restaurant              address  \\\n",
       "0           0  Norman's Ice Cream and Freezes  2801 Leavenworth St   \n",
       "1           1                        Chowders    Pier 39  Space A3   \n",
       "2           2                    XOX Truffles     754 Columbus Ave   \n",
       "3           3                     Centerfolds      391 Broadway St   \n",
       "4           4                   Caffe Puccini     411 Columbus Ave   \n",
       "\n",
       "   recent_health_score recent_health_risk  average_health_score  zipcode  \\\n",
       "0                   96           Low Risk             96.000000    94133   \n",
       "1                   98           Low Risk             94.500000    94133   \n",
       "2                   94      Moderate Risk             94.000000    94133   \n",
       "3                   90           Low Risk             90.857143    94133   \n",
       "4                   90           Low Risk             90.000000    94133   \n",
       "\n",
       "         yelp_business_id  rating  price  review_count  \\\n",
       "0  sfAIpzEC8ywpy36YhzikmQ     4.5      1         289.0   \n",
       "1  oic-xcRpi-yXG3KZ4go0mg     3.5      2         768.0   \n",
       "2  qkHlhvv6DrCkvY54ogcPiA     4.5      1         604.0   \n",
       "3  6Ki5PvDCebTkCRkGEXD1qw     3.5      2         151.0   \n",
       "4  uzqUJiCHUqV2c3PnvSsqeQ     4.0      1         966.0   \n",
       "\n",
       "                  category_1    category_2              category_3   distance  \\\n",
       "0  Ice Cream & Frozen Yogurt  Coffee & Tea  Juice Bars & Smoothies   8.031888   \n",
       "1                    Seafood  Fish & Chips                    Soup  57.334700   \n",
       "2       Chocolatiers & Shops  Coffee & Tea                     NaN   3.286580   \n",
       "3                    Cabaret   Strip Clubs                     NaN   7.262056   \n",
       "4               Coffee & Tea      Desserts              Sandwiches  25.578495   \n",
       "\n",
       "  cuisine  median_income    zip_lat     zip_lng  \n",
       "0   Other          45203  37.804531 -122.410852  \n",
       "1   Other          45203  37.804531 -122.410852  \n",
       "2   Other          45203  37.804531 -122.410852  \n",
       "3   Other          45203  37.804531 -122.410852  \n",
       "4   Other          45203  37.804531 -122.410852  "
      ]
     },
     "execution_count": 4,
     "metadata": {},
     "output_type": "execute_result"
    }
   ],
   "source": [
    "def price_to_num(price):\n",
    "    if price == '$':\n",
    "        price = 1\n",
    "    elif price == '$$':\n",
    "        price = 2\n",
    "    elif price == '$$$':\n",
    "        price = 3\n",
    "    elif price == '$$$$':\n",
    "        price = 4\n",
    "    return price\n",
    "\n",
    "df['price'] = df['price'].apply(price_to_num)\n",
    "df.head()"
   ]
  },
  {
   "cell_type": "code",
   "execution_count": 8,
   "metadata": {},
   "outputs": [
    {
     "data": {
      "image/png": "[encoded data removed]",
      "text/plain": [
       "<Figure size 1080x576 with 1 Axes>"
      ]
     },
     "metadata": {
      "needs_background": "light"
     },
     "output_type": "display_data"
    }
   ],
   "source": [
    "ax = df.boxplot(\"recent_health_score\", by=\"price\", figsize=(15, 8), grid=False, showmeans=True)\n",
    "ax.set_title(\"Health Inspection Scores by Yelp Price Category\", fontsize=25)\n",
    "ax.set_xlabel(\"Price Category\", fontsize=20)\n",
    "ax.set_ylabel(\"Health Inspection Score\", fontsize=20)\n",
    "ax.set_xticklabels(['\\$','\\$\\$','\\$\\$\\$','\\$\\$\\$\\$'])\n",
    "plt.suptitle(\"\")\n",
    "plt.savefig(\"figures/inspection_score_by_price_boxplot.png\")"
   ]
  },
  {
   "cell_type": "code",
   "execution_count": 6,
   "metadata": {},
   "outputs": [],
   "source": [
    "group1 = df[df['price'] == 1]['recent_health_score']\n",
    "group2 = df[df['price'] == 2]['recent_health_score']\n",
    "group3 = df[df['price'] == 3]['recent_health_score']\n",
    "group4 = df[df['price'] == 4]['recent_health_score']"
   ]
  },
  {
   "cell_type": "code",
   "execution_count": 10,
   "metadata": {},
   "outputs": [
    {
     "data": {
      "text/plain": [
       "F_onewayResult(statistic=15.975901326872155, pvalue=1.3064994286682345e-07)"
      ]
     },
     "execution_count": 10,
     "metadata": {},
     "output_type": "execute_result"
    }
   ],
   "source": [
    "# ANOVA\n",
    "stats.f_oneway(group1, group2, group3, group4)"
   ]
  },
  {
   "cell_type": "code",
   "execution_count": null,
   "metadata": {},
   "outputs": [],
   "source": []
  }
 ],
 "metadata": {
  "kernelspec": {
   "display_name": "Python 3",
   "language": "python",
   "name": "python3"
  },
  "language_info": {
   "codemirror_mode": {
    "name": "ipython",
    "version": 3
   },
   "file_extension": ".py",
   "mimetype": "text/x-python",
   "name": "python",
   "nbconvert_exporter": "python",
   "pygments_lexer": "ipython3",
   "version": "3.7.1"
  }
 },
 "nbformat": 4,
 "nbformat_minor": 2
}
