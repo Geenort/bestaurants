{
 "cells": [
  {
   "cell_type": "code",
   "execution_count": 16,
   "metadata": {},
   "outputs": [
    {
     "name": "stderr",
     "output_type": "stream",
     "text": [
      "C:\\Users\\skim2\\AppData\\Local\\Continuum\\anaconda3\\lib\\site-packages\\ipykernel_launcher.py:26: SettingWithCopyWarning: \n",
      "A value is trying to be set on a copy of a slice from a DataFrame.\n",
      "Try using .loc[row_indexer,col_indexer] = value instead\n",
      "\n",
      "See the caveats in the documentation: http://pandas.pydata.org/pandas-docs/stable/indexing.html#indexing-view-versus-copy\n"
     ]
    },
    {
     "data": {
      "text/html": [
       "<div>\n",
       "<style scoped>\n",
       "    .dataframe tbody tr th:only-of-type {\n",
       "        vertical-align: middle;\n",
       "    }\n",
       "\n",
       "    .dataframe tbody tr th {\n",
       "        vertical-align: top;\n",
       "    }\n",
       "\n",
       "    .dataframe thead th {\n",
       "        text-align: right;\n",
       "    }\n",
       "</style>\n",
       "<table border=\"1\" class=\"dataframe\">\n",
       "  <thead>\n",
       "    <tr style=\"text-align: right;\">\n",
       "      <th>cuisine</th>\n",
       "      <th>American</th>\n",
       "      <th>Chinese</th>\n",
       "      <th>Indian</th>\n",
       "      <th>Italian</th>\n",
       "      <th>Japanese</th>\n",
       "      <th>Korean</th>\n",
       "      <th>Mediterranean</th>\n",
       "      <th>Mexican</th>\n",
       "      <th>Thai</th>\n",
       "      <th>Vietnamese</th>\n",
       "    </tr>\n",
       "    <tr>\n",
       "      <th>price</th>\n",
       "      <th></th>\n",
       "      <th></th>\n",
       "      <th></th>\n",
       "      <th></th>\n",
       "      <th></th>\n",
       "      <th></th>\n",
       "      <th></th>\n",
       "      <th></th>\n",
       "      <th></th>\n",
       "      <th></th>\n",
       "    </tr>\n",
       "  </thead>\n",
       "  <tbody>\n",
       "    <tr>\n",
       "      <th>$1-10</th>\n",
       "      <td>21</td>\n",
       "      <td>93</td>\n",
       "      <td>14</td>\n",
       "      <td>4</td>\n",
       "      <td>12</td>\n",
       "      <td>2</td>\n",
       "      <td>6</td>\n",
       "      <td>106</td>\n",
       "      <td>7</td>\n",
       "      <td>57</td>\n",
       "    </tr>\n",
       "    <tr>\n",
       "      <th>$11-30</th>\n",
       "      <td>117</td>\n",
       "      <td>63</td>\n",
       "      <td>40</td>\n",
       "      <td>83</td>\n",
       "      <td>148</td>\n",
       "      <td>37</td>\n",
       "      <td>27</td>\n",
       "      <td>55</td>\n",
       "      <td>67</td>\n",
       "      <td>28</td>\n",
       "    </tr>\n",
       "    <tr>\n",
       "      <th>$31-60</th>\n",
       "      <td>43</td>\n",
       "      <td>0</td>\n",
       "      <td>2</td>\n",
       "      <td>23</td>\n",
       "      <td>14</td>\n",
       "      <td>0</td>\n",
       "      <td>2</td>\n",
       "      <td>1</td>\n",
       "      <td>1</td>\n",
       "      <td>1</td>\n",
       "    </tr>\n",
       "    <tr>\n",
       "      <th>$61+</th>\n",
       "      <td>14</td>\n",
       "      <td>1</td>\n",
       "      <td>0</td>\n",
       "      <td>2</td>\n",
       "      <td>15</td>\n",
       "      <td>0</td>\n",
       "      <td>0</td>\n",
       "      <td>1</td>\n",
       "      <td>0</td>\n",
       "      <td>0</td>\n",
       "    </tr>\n",
       "  </tbody>\n",
       "</table>\n",
       "</div>"
      ],
      "text/plain": [
       "cuisine  American  Chinese  Indian  Italian  Japanese  Korean  Mediterranean  \\\n",
       "price                                                                          \n",
       "$1-10          21       93      14        4        12       2              6   \n",
       "$11-30        117       63      40       83       148      37             27   \n",
       "$31-60         43        0       2       23        14       0              2   \n",
       "$61+           14        1       0        2        15       0              0   \n",
       "\n",
       "cuisine  Mexican  Thai  Vietnamese  \n",
       "price                               \n",
       "$1-10        106     7          57  \n",
       "$11-30        55    67          28  \n",
       "$31-60         1     1           1  \n",
       "$61+           1     0           0  "
      ]
     },
     "execution_count": 16,
     "metadata": {},
     "output_type": "execute_result"
    }
   ],
   "source": [
    "# Dependencies\n",
    "import matplotlib.pyplot as plt\n",
    "import numpy as np\n",
    "import pandas as pd\n",
    "import seaborn as sns\n",
    "\n",
    "file_one = \"Resources/yelp_clean.csv\"\n",
    "\n",
    "file_one_df = pd.read_csv(file_one)\n",
    "\n",
    "clean_1_df = file_one_df[['restaurant', 'cuisine', 'price']]\n",
    "\n",
    "clean_1_dff = clean_1_df.dropna(how='any')\n",
    "\n",
    "clean_2_df = clean_1_df.loc[(clean_1_df[\"price\"] == \"$\") | (\n",
    "                             clean_1_df[\"price\"] == \"$$\") | (\n",
    "                             clean_1_df[\"price\"] == \"$$$\") | (\n",
    "                             clean_1_df[\"price\"] == \"$$$$\") , :]\n",
    "\n",
    "clean_2_df = clean_1_df.loc[(clean_1_df[\"cuisine\"] != \"Other\"), :]\n",
    "\n",
    "clean_2_df[\"price\"] = clean_2_df[\"price\"].replace(\n",
    "    {\"$\": \"$1-10\",\n",
    "     \"$$\": \"$11-30\",\n",
    "     \"$$$\": \"$31-60\",\n",
    "     \"$$$$\": \"$61+\"})\n",
    "                            \n",
    "clean_3_df = pd.crosstab(clean_2_df['price'],\n",
    "                         clean_2_df['cuisine']#,\n",
    "                         #margins = True,\n",
    "                         #margins_name = \"Total\",\n",
    "                         #normalize='index'\n",
    "                        )\n",
    "                            \n",
    "\n",
    "clean_3_df.head()\n"
   ]
  },
  {
   "cell_type": "code",
   "execution_count": 29,
   "metadata": {},
   "outputs": [
    {
     "data": {
      "image/png": "[encoded data removed]",
      "text/plain": [
       "<Figure size 1080x360 with 2 Axes>"
      ]
     },
     "metadata": {
      "needs_background": "light"
     },
     "output_type": "display_data"
    }
   ],
   "source": [
    "clean_4_df = pd.crosstab(clean_2_df['price'],\n",
    "                         clean_2_df['cuisine'],\n",
    "                         normalize='index'\n",
    "                        )\n",
    "                            \n",
    "plt.figure(figsize=(15,5))\n",
    "ax = sns.heatmap(clean_4_df,cmap=\"YlGnBu\", annot=True, cbar=True)\n",
    "plt.savefig(\"Images/ContingencyTable.png\")\n"
   ]
  },
  {
   "cell_type": "code",
   "execution_count": 18,
   "metadata": {},
   "outputs": [
    {
     "data": {
      "text/plain": [
       "array([[ 21,  93,  14,   4,  12,   2,   6, 106,   7,  57],\n",
       "       [117,  63,  40,  83, 148,  37,  27,  55,  67,  28],\n",
       "       [ 43,   0,   2,  23,  14,   0,   2,   1,   1,   1],\n",
       "       [ 14,   1,   0,   2,  15,   0,   0,   1,   0,   0]], dtype=int64)"
      ]
     },
     "execution_count": 18,
     "metadata": {},
     "output_type": "execute_result"
    }
   ],
   "source": [
    "f_obs = np.array([clean_3_df.iloc[0][0:10].values,\n",
    "                  clean_3_df.iloc[1][0:10].values,\n",
    "                  clean_3_df.iloc[2][0:10].values,\n",
    "                  clean_3_df.iloc[3][0:10].values,\n",
    "                 ])\n",
    "f_obs"
   ]
  },
  {
   "cell_type": "code",
   "execution_count": 22,
   "metadata": {},
   "outputs": [
    {
     "data": {
      "text/plain": [
       "(490.91064435729504, 1.1593928466742333e-86, 27)"
      ]
     },
     "execution_count": 22,
     "metadata": {},
     "output_type": "execute_result"
    }
   ],
   "source": [
    "from scipy import stats\n",
    "stats.chi2_contingency(f_obs)[0:3]"
   ]
  },
  {
   "cell_type": "code",
   "execution_count": null,
   "metadata": {},
   "outputs": [],
   "source": []
  }
 ],
 "metadata": {
  "kernelspec": {
   "display_name": "Python 3",
   "language": "python",
   "name": "python3"
  },
  "language_info": {
   "codemirror_mode": {
    "name": "ipython",
    "version": 3
   },
   "file_extension": ".py",
   "mimetype": "text/x-python",
   "name": "python",
   "nbconvert_exporter": "python",
   "pygments_lexer": "ipython3",
   "version": "3.7.1"
  }
 },
 "nbformat": 4,
 "nbformat_minor": 2
}
